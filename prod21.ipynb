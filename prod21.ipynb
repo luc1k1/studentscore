{
 "cells": [
  {
   "cell_type": "code",
   "id": "initial_id",
   "metadata": {
    "collapsed": true,
    "ExecuteTime": {
     "end_time": "2025-10-07T18:15:04.685255Z",
     "start_time": "2025-10-07T18:15:04.665183Z"
    }
   },
   "source": [
    "import pandas as pd\n",
    "import sqlite3 as sq\n",
    "import numpy as np\n"
   ],
   "outputs": [],
   "execution_count": 127
  },
  {
   "metadata": {},
   "cell_type": "markdown",
   "source": "Just imported libraries",
   "id": "98c6d97b7176088b"
  },
  {
   "metadata": {
    "ExecuteTime": {
     "end_time": "2025-10-07T18:15:05.886963Z",
     "start_time": "2025-10-07T18:15:05.883349Z"
    }
   },
   "cell_type": "code",
   "source": [
    "stud_name = np.array([], dtype=object)\n",
    "stud_age = np.array([], dtype=int)\n",
    "stud_score = np.array([], dtype=int)\n",
    "stud_passed = np.array([], dtype=bool)\n",
    "# New features for ML\n",
    "stud_attendance = np.array([], dtype=float)\n",
    "stud_hw_avg = np.array([], dtype=float)\n",
    "stud_projects = np.array([], dtype=int)"
   ],
   "id": "e99f8a2a2f222962",
   "outputs": [],
   "execution_count": 128
  },
  {
   "metadata": {
    "ExecuteTime": {
     "end_time": "2025-10-07T18:15:09.245581Z",
     "start_time": "2025-10-07T18:15:09.243536Z"
    }
   },
   "cell_type": "code",
   "source": [
    "data = pd.DataFrame({\n",
    "    'Name': stud_name,\n",
    "    'Age': stud_age,\n",
    "    'Score': stud_score,\n",
    "    'Passed': stud_passed,\n",
    "    'Attendance': stud_attendance,\n",
    "    'HW_Avg': stud_hw_avg,\n",
    "    'Projects': stud_projects\n",
    "}, index=range(len(stud_name)), dtype=object)"
   ],
   "id": "d55aa56bc7b5b58a",
   "outputs": [],
   "execution_count": 130
  },
  {
   "metadata": {
    "ExecuteTime": {
     "end_time": "2025-10-07T18:15:15.168981Z",
     "start_time": "2025-10-07T18:15:15.165835Z"
    }
   },
   "cell_type": "code",
   "source": [
    "def add_student():\n",
    "    global stud_name, stud_age, stud_score, stud_passed\n",
    "    global stud_attendance, stud_hw_avg, stud_projects\n",
    "    stud_name = np.append(stud_name, input('Enter name: '))\n",
    "    stud_age = np.append(stud_age, input('Enter age: '))\n",
    "    x = int(input('Enter score: '))\n",
    "    stud_score = np.append(stud_score, x)\n",
    "    if x >= 60:\n",
    "        stud_passed = np.append(stud_passed, True)\n",
    "    else:\n",
    "        stud_passed = np.append(stud_passed, False)\n",
    "            # New features input\n",
    "    att = float(input('Enter attendance (%): '))\n",
    "    hw = float(input('Enter homework average: '))\n",
    "    proj = int(input('Enter number of projects: '))\n",
    "    stud_attendance = np.append(stud_attendance, att)\n",
    "    stud_hw_avg = np.append(stud_hw_avg, hw)\n",
    "    stud_projects = np.append(stud_projects, proj)\n",
    "    with sq.connect('students.db') as con:\n",
    "        df = pd.DataFrame({'name': stud_name,\n",
    "                           'age': stud_age,\n",
    "                           'score': stud_score,\n",
    "                           'passed': stud_passed,\n",
    "                           'stud_att': stud_attendance,\n",
    "                           'H/W AVG' :stud_hw_avg ,\n",
    "                           'Projects': stud_projects},\n",
    "                            dtype=object)\n",
    "        df.to_sql('students', con, if_exists='replace', index=False)"
   ],
   "id": "799d78c6625fd0ee",
   "outputs": [],
   "execution_count": 132
  },
  {
   "metadata": {},
   "cell_type": "markdown",
   "source": "Function to add a student to the database",
   "id": "2f5415919ba41ae5"
  },
  {
   "metadata": {
    "ExecuteTime": {
     "end_time": "2025-10-07T18:15:17.596280Z",
     "start_time": "2025-10-07T18:15:17.594204Z"
    }
   },
   "cell_type": "code",
   "source": [
    "def show_students():\n",
    "    with sq.connect('students.db') as con:\n",
    "        df = pd.read_sql('SELECT * FROM students', con)\n",
    "        df['passed'] = df['passed'].astype(bool)\n",
    "        display(df)"
   ],
   "id": "80a57d3a6c726960",
   "outputs": [],
   "execution_count": 134
  },
  {
   "metadata": {},
   "cell_type": "markdown",
   "source": "Function to show all students",
   "id": "44025eaf73c85da1"
  },
  {
   "metadata": {
    "ExecuteTime": {
     "end_time": "2025-10-07T18:15:18.611467Z",
     "start_time": "2025-10-07T18:15:18.609232Z"
    }
   },
   "cell_type": "code",
   "source": [
    "def clear_database():\n",
    "    global stud_name, stud_age, stud_score, stud_passed\n",
    "    stud_name = np.array([], dtype=object)\n",
    "    stud_age = np.array([], dtype=int)\n",
    "    stud_score = np.array([], dtype=int)\n",
    "    stud_passed = np.array([], dtype=bool)\n",
    "    with sq.connect('students.db') as con:\n",
    "        con.execute('DELETE FROM students')\n",
    "        con.commit()\n",
    "    print(\"All data has been cleared!\")"
   ],
   "id": "d5ce5d3fa9ad70b0",
   "outputs": [],
   "execution_count": 135
  },
  {
   "metadata": {},
   "cell_type": "markdown",
   "source": "    Function to clear the database",
   "id": "18c901b1b6d06aee"
  },
  {
   "metadata": {
    "ExecuteTime": {
     "end_time": "2025-10-07T18:15:20.384242Z",
     "start_time": "2025-10-07T18:15:20.381314Z"
    }
   },
   "cell_type": "code",
   "source": [
    "def score_mean():\n",
    "    with sq.connect('students.db') as con:\n",
    "        df = pd.read_sql('SELECT * FROM students', con)\n",
    "        mean_score = df['score'].mean()\n",
    "        print(f\"Mean score: {mean_score:.2f}\")"
   ],
   "id": "b68e4e38a1e00f36",
   "outputs": [],
   "execution_count": 136
  },
  {
   "metadata": {
    "ExecuteTime": {
     "end_time": "2025-10-07T18:15:21.948121Z",
     "start_time": "2025-10-07T18:15:21.946535Z"
    }
   },
   "cell_type": "code",
   "source": [
    "def max_score():\n",
    "    with sq.connect('students.db') as con:\n",
    "        df = pd.read_sql('SELECT * FROM students', con)\n",
    "        max_score = df['score'].max()\n",
    "        print(f\"Max score: {max_score}\")"
   ],
   "id": "fc30a618dbecbd3e",
   "outputs": [],
   "execution_count": 137
  },
  {
   "metadata": {
    "ExecuteTime": {
     "end_time": "2025-10-07T18:15:23.195965Z",
     "start_time": "2025-10-07T18:15:23.191288Z"
    }
   },
   "cell_type": "code",
   "source": [
    "def min_score():\n",
    "    with sq.connect('students.db') as con:\n",
    "        df = pd.read_sql('SELECT * FROM students', con)\n",
    "        min_score = df['score'].min()\n",
    "        print(f\"Min score: {min_score}\")"
   ],
   "id": "3feac018fffca7e4",
   "outputs": [],
   "execution_count": 138
  },
  {
   "metadata": {
    "ExecuteTime": {
     "end_time": "2025-10-07T18:15:27.707556Z",
     "start_time": "2025-10-07T18:15:27.700971Z"
    }
   },
   "cell_type": "code",
   "source": [
    "import numpy as np\n",
    "import pandas as pd\n",
    "import sqlite3 as sq\n",
    "\n",
    "def predict_values_sgd(L=20.0, lr=0.001, epochs=1000):\n",
    "    global w\n",
    "    with sq.connect('students.db') as con:\n",
    "        df = pd.read_sql('SELECT * FROM students', con)\n",
    "\n",
    "    if len(df) < 2:\n",
    "        print('Not enough data!')\n",
    "        return None, None\n",
    "\n",
    "    X = np.c_[\n",
    "        np.ones(len(df)),\n",
    "        df['age'].astype(float).values,\n",
    "        df['stud_att'].astype(float).values,\n",
    "        df['H/W AVG'].astype(float).values,\n",
    "        df['Projects'].astype(float).values\n",
    "    ]\n",
    "    Y = df['score'].astype(float).values.reshape(-1, 1)\n",
    "\n",
    "    n_samples, n_features = X.shape\n",
    "    w = np.zeros((n_features, 1))\n",
    "\n",
    "    for epoch in range(epochs):\n",
    "\n",
    "        indices = np.random.permutation(n_samples)\n",
    "\n",
    "        for i in indices:\n",
    "            xi = X[i].reshape(1, -1)\n",
    "            yi = Y[i]\n",
    "\n",
    "\n",
    "            y_pred = xi @ w\n",
    "            error = y_pred - yi\n",
    "\n",
    "            # градиент\n",
    "            grad = xi.T @ error + L * w\n",
    "            grad[0] -= L * w[0]\n",
    "\n",
    "\n",
    "            w -= lr * grad\n",
    "\n",
    "        if epoch % 100 == 0:\n",
    "            loss = np.mean((X @ w - Y) ** 2)\n",
    "            print(f\"Epoch {epoch}: loss = {loss:.4f}\")\n",
    "\n",
    "    print(\"Model trained with stochastic gradient descent\")\n",
    "    return w, df"
   ],
   "id": "f1465fc4d3ec5fe2",
   "outputs": [],
   "execution_count": 141
  },
  {
   "metadata": {
    "ExecuteTime": {
     "end_time": "2025-10-07T18:16:35.463309Z",
     "start_time": "2025-10-07T18:16:28.907569Z"
    }
   },
   "cell_type": "code",
   "source": [
    "try:\n",
    "    while True:\n",
    "        choice = input(\"\"\"Enter your choice: (1/2/3/4/5)\n",
    "\n",
    "                            1. Add student\n",
    "                            2. Show studentsв\n",
    "                            3. Clear database\n",
    "                            4. Calculate mean score\n",
    "                            5. Calculate min score\n",
    "                            6. Calculate max score\n",
    "                            7. Predict Score\n",
    "                            8. Exit\n",
    "                            \"\"\").strip()\n",
    "        match choice:\n",
    "            case '1':\n",
    "                add_student()\n",
    "            case '2':\n",
    "                show_students()\n",
    "                break\n",
    "            case '3':\n",
    "                clear_database()\n",
    "                break\n",
    "            case '4':\n",
    "                score_mean()\n",
    "                break\n",
    "            case '5':\n",
    "                min_score()\n",
    "                break\n",
    "            case '6':\n",
    "                max_score()\n",
    "                break\n",
    "            case '7':\n",
    "                predict_stud()\n",
    "            case '8':\n",
    "                break\n",
    "            case _:\n",
    "                print(\"Invalid choice. Please try again.\")\n",
    "\n",
    "except ValueError:\n",
    "    print(\"Invalid choice. Please try again.\")\n",
    "except KeyboardInterrupt:\n",
    "    print(\" \")\n",
    "except Exception as e:\n",
    "    print(f\"An error occurred: {e}\")"
   ],
   "id": "5151c0ec4b7ba33e",
   "outputs": [
    {
     "data": {
      "text/plain": [
       "      name age  score  passed  stud_att  H/W AVG  Projects\n",
       "0      Max  20     70    True      70.0     70.0        35\n",
       "1  Misterr  11     60    True      60.0     60.0        30"
      ],
      "text/html": [
       "<div>\n",
       "<style scoped>\n",
       "    .dataframe tbody tr th:only-of-type {\n",
       "        vertical-align: middle;\n",
       "    }\n",
       "\n",
       "    .dataframe tbody tr th {\n",
       "        vertical-align: top;\n",
       "    }\n",
       "\n",
       "    .dataframe thead th {\n",
       "        text-align: right;\n",
       "    }\n",
       "</style>\n",
       "<table border=\"1\" class=\"dataframe\">\n",
       "  <thead>\n",
       "    <tr style=\"text-align: right;\">\n",
       "      <th></th>\n",
       "      <th>name</th>\n",
       "      <th>age</th>\n",
       "      <th>score</th>\n",
       "      <th>passed</th>\n",
       "      <th>stud_att</th>\n",
       "      <th>H/W AVG</th>\n",
       "      <th>Projects</th>\n",
       "    </tr>\n",
       "  </thead>\n",
       "  <tbody>\n",
       "    <tr>\n",
       "      <th>0</th>\n",
       "      <td>Max</td>\n",
       "      <td>20</td>\n",
       "      <td>70</td>\n",
       "      <td>True</td>\n",
       "      <td>70.0</td>\n",
       "      <td>70.0</td>\n",
       "      <td>35</td>\n",
       "    </tr>\n",
       "    <tr>\n",
       "      <th>1</th>\n",
       "      <td>Misterr</td>\n",
       "      <td>11</td>\n",
       "      <td>60</td>\n",
       "      <td>True</td>\n",
       "      <td>60.0</td>\n",
       "      <td>60.0</td>\n",
       "      <td>30</td>\n",
       "    </tr>\n",
       "  </tbody>\n",
       "</table>\n",
       "</div>"
      ]
     },
     "metadata": {},
     "output_type": "display_data"
    }
   ],
   "execution_count": 147
  },
  {
   "metadata": {
    "ExecuteTime": {
     "end_time": "2025-10-07T18:15:36.136166Z",
     "start_time": "2025-10-07T18:15:36.133216Z"
    }
   },
   "cell_type": "code",
   "source": [
    "def predict_stud():\n",
    "    global Stud_Age , Stud_at , Stud_HW , StudProj\n",
    "    Stud_Age= int(input('Age:  '))\n",
    "    Stud_at = float(input('Attendance of Student: '))\n",
    "    Stud_HW = float(input('H/W Percent: '))\n",
    "    StudProj = int(input('How many projects students does ?'))\n",
    "\n",
    "\n",
    "\n",
    "    x_new = np.array([1, Stud_Age , Stud_at, Stud_HW, StudProj])\n",
    "    y_pred = np.dot(w, x_new)\n",
    "\n",
    "    if y_pred > 100:\n",
    "        y_pred = 100\n",
    "\n",
    "    print(f\"Score: {y_pred:.2f}\")"
   ],
   "id": "abbf463759a7cf03",
   "outputs": [],
   "execution_count": 144
  },
  {
   "metadata": {
    "ExecuteTime": {
     "end_time": "2025-10-07T18:15:37.443212Z",
     "start_time": "2025-10-07T18:15:37.439822Z"
    }
   },
   "cell_type": "code",
   "source": [
    "import random\n",
    "\n",
    "def generate_students(n=50):\n",
    "    global stud_name, stud_age, stud_score, stud_passed\n",
    "    global stud_attendance, stud_hw_avg, stud_projects\n",
    "\n",
    "    names = [f\"Student_{i}\" for i in range(1, n+1)]\n",
    "    ages = np.random.randint(15, 25, size=n)               # возраст 15–24\n",
    "    scores = np.random.randint(30, 100, size=n)            # баллы 30–99\n",
    "    passed = scores >= 60                                  # кто прошёл\n",
    "    attendance = np.random.uniform(50, 100, size=n)        # посещаемость %\n",
    "    hw_avg = np.random.uniform(40, 100, size=n)            # средняя оценка за дз\n",
    "    projects = np.random.randint(0, 10, size=n)            # количество проектов\n",
    "\n",
    "    stud_name = np.append(stud_name, names)\n",
    "    stud_age = np.append(stud_age, ages)\n",
    "    stud_score = np.append(stud_score, scores)\n",
    "    stud_passed = np.append(stud_passed, passed)\n",
    "    stud_attendance = np.append(stud_attendance, attendance)\n",
    "    stud_hw_avg = np.append(stud_hw_avg, hw_avg)\n",
    "    stud_projects = np.append(stud_projects, projects)\n",
    "\n",
    "    with sq.connect('students.db') as con:\n",
    "        df = pd.DataFrame({\n",
    "            'name': stud_name,\n",
    "            'age': stud_age,\n",
    "            'score': stud_score,\n",
    "            'passed': stud_passed,\n",
    "            'attendance': stud_attendance,\n",
    "            'hw_avg': stud_hw_avg,\n",
    "            'projects': stud_projects\n",
    "        })\n",
    "        df.to_sql('students', con, if_exists='replace', index=False)\n",
    "\n",
    "    print(f\"{n} students added to database!\")\n",
    "\n",
    "\n",
    "\n",
    "    generate_students(100)  # например 100 студентов"
   ],
   "id": "b4082f69a0c82dd5",
   "outputs": [],
   "execution_count": 145
  }
 ],
 "metadata": {
  "kernelspec": {
   "display_name": "Python 3",
   "language": "python",
   "name": "python3"
  },
  "language_info": {
   "codemirror_mode": {
    "name": "ipython",
    "version": 2
   },
   "file_extension": ".py",
   "mimetype": "text/x-python",
   "name": "python",
   "nbconvert_exporter": "python",
   "pygments_lexer": "ipython2",
   "version": "2.7.6"
  }
 },
 "nbformat": 4,
 "nbformat_minor": 5
}
