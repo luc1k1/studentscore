{
 "cells": [
  {
   "cell_type": "code",
   "id": "initial_id",
   "metadata": {
    "collapsed": true,
    "ExecuteTime": {
     "end_time": "2025-09-11T11:24:22.251642Z",
     "start_time": "2025-09-11T11:24:22.249983Z"
    }
   },
   "source": [
    "import pandas as pd\n",
    "import sqlite3 as sq\n",
    "import numpy as np\n"
   ],
   "outputs": [],
   "execution_count": 51
  },
  {
   "metadata": {},
   "cell_type": "markdown",
   "source": "Just imported libraries",
   "id": "98c6d97b7176088b"
  },
  {
   "metadata": {
    "ExecuteTime": {
     "end_time": "2025-09-11T11:24:23.176015Z",
     "start_time": "2025-09-11T11:24:23.173942Z"
    }
   },
   "cell_type": "code",
   "source": [
    "stud_name = []\n",
    "stud_age = []\n",
    "stud_score = []\n",
    "stud_passed = []"
   ],
   "id": "e99f8a2a2f222962",
   "outputs": [],
   "execution_count": 52
  },
  {
   "metadata": {
    "ExecuteTime": {
     "end_time": "2025-09-11T11:24:28.687023Z",
     "start_time": "2025-09-11T11:24:28.683133Z"
    }
   },
   "cell_type": "code",
   "source": [
    "data = pd.DataFrame({'Name': stud_name, 'Age': stud_age, 'Score': stud_score, 'Passed': stud_passed},\n",
    "                    index=range(len(stud_name)),dtype = object)"
   ],
   "id": "d55aa56bc7b5b58a",
   "outputs": [],
   "execution_count": 54
  },
  {
   "metadata": {
    "ExecuteTime": {
     "end_time": "2025-09-11T11:24:29.777881Z",
     "start_time": "2025-09-11T11:24:29.775765Z"
    }
   },
   "cell_type": "code",
   "source": [
    "def add_student(name, age):\n",
    "    stud_name.append(name)\n",
    "    stud_age.append(age)\n",
    "    x = int(input('Enter score: '))\n",
    "    stud_score.append(x)\n",
    "    if x >= 60:\n",
    "        stud_passed.append(True)\n",
    "    else:\n",
    "        stud_passed.append(False)\n",
    "    with sq.connect('students.db') as con:\n",
    "        df = pd.DataFrame({'name': stud_name, 'age': stud_age, 'score': stud_score, 'passed': stud_passed}, dtype=object)\n",
    "        df.to_sql('students', con, if_exists='replace', index=False)"
   ],
   "id": "799d78c6625fd0ee",
   "outputs": [],
   "execution_count": 55
  },
  {
   "metadata": {},
   "cell_type": "markdown",
   "source": "Function to add a student to the database",
   "id": "2f5415919ba41ae5"
  },
  {
   "metadata": {
    "ExecuteTime": {
     "end_time": "2025-09-11T11:24:31.399967Z",
     "start_time": "2025-09-11T11:24:31.397813Z"
    }
   },
   "cell_type": "code",
   "source": [
    "def show_students():\n",
    "    with sq.connect('students.db') as con:\n",
    "        df = pd.read_sql('SELECT * FROM students', con)\n",
    "        df['passed'] = df['passed'].astype(bool)\n",
    "        display(df)"
   ],
   "id": "80a57d3a6c726960",
   "outputs": [],
   "execution_count": 56
  },
  {
   "metadata": {},
   "cell_type": "markdown",
   "source": "Function to show all students",
   "id": "44025eaf73c85da1"
  },
  {
   "metadata": {
    "ExecuteTime": {
     "end_time": "2025-09-11T11:24:33.170252Z",
     "start_time": "2025-09-11T11:24:33.168329Z"
    }
   },
   "cell_type": "code",
   "source": [
    "def clear_database():\n",
    "    stud_name.clear()\n",
    "    stud_age.clear()\n",
    "    stud_score.clear()\n",
    "    stud_passed.clear()\n",
    "    with sq.connect('students.db') as con:\n",
    "        con.execute('DELETE FROM students')\n",
    "        con.commit()\n",
    "    print(\"All data has been cleared!\")"
   ],
   "id": "d5ce5d3fa9ad70b0",
   "outputs": [],
   "execution_count": 57
  },
  {
   "metadata": {},
   "cell_type": "markdown",
   "source": "Function to clear the database",
   "id": "18c901b1b6d06aee"
  },
  {
   "metadata": {
    "ExecuteTime": {
     "end_time": "2025-09-11T11:28:00.271597Z",
     "start_time": "2025-09-11T11:28:00.268690Z"
    }
   },
   "cell_type": "code",
   "source": [
    "def score_mean():\n",
    "    with sq.connect('students.db') as con:\n",
    "        df = pd.read_sql('SELECT * FROM students', con)\n",
    "        mean_score = df['score'].mean()\n",
    "        print(f\"Mean score: {mean_score:.2f}\")"
   ],
   "id": "b68e4e38a1e00f36",
   "outputs": [],
   "execution_count": 62
  },
  {
   "metadata": {
    "ExecuteTime": {
     "end_time": "2025-09-11T11:37:54.573199Z",
     "start_time": "2025-09-11T11:37:52.203720Z"
    }
   },
   "cell_type": "code",
   "source": [
    "try:\n",
    "    while True:\n",
    "        choice = input(\"\"\"Enter your choice: (1/2/3/4/5)\n",
    "\n",
    "                            1. Add student\n",
    "                            2. Show students\n",
    "                            3. Clear database\n",
    "                            4. Calculate mean score\n",
    "                            5. Exit\n",
    "                            \"\"\")\n",
    "        match choice:\n",
    "            case '1':\n",
    "                add_student()\n",
    "            case '2':\n",
    "                show_students()\n",
    "                break\n",
    "            case '3':\n",
    "                clear_database()\n",
    "            case '4':\n",
    "                score_mean()\n",
    "            case '5':\n",
    "                break\n",
    "            case _:\n",
    "                print(\"Invalid choice. Please try again.\")\n",
    "\n",
    "except ValueError:\n",
    "    print(\"Invalid choice. Please try again.\")\n",
    "except KeyboardInterrupt:\n",
    "    print(\"Program interrupted by user.\")\n",
    "except Exception as e:\n",
    "    print(f\"An error occurred: {e}\")"
   ],
   "id": "5fe759e82f9057d9",
   "outputs": [
    {
     "name": "stdout",
     "output_type": "stream",
     "text": [
      "Program interrupted by user.\n"
     ]
    }
   ],
   "execution_count": 67
  }
 ],
 "metadata": {
  "kernelspec": {
   "display_name": "Python 3",
   "language": "python",
   "name": "python3"
  },
  "language_info": {
   "codemirror_mode": {
    "name": "ipython",
    "version": 2
   },
   "file_extension": ".py",
   "mimetype": "text/x-python",
   "name": "python",
   "nbconvert_exporter": "python",
   "pygments_lexer": "ipython2",
   "version": "2.7.6"
  }
 },
 "nbformat": 4,
 "nbformat_minor": 5
}
