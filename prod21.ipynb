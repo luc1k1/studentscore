{
 "cells": [
  {
   "cell_type": "code",
   "id": "initial_id",
   "metadata": {
    "collapsed": true,
    "ExecuteTime": {
     "end_time": "2025-09-11T15:19:09.210609Z",
     "start_time": "2025-09-11T15:19:09.206621Z"
    }
   },
   "source": [
    "import pandas as pd\n",
    "import sqlite3 as sq\n",
    "import numpy as np\n"
   ],
   "outputs": [],
   "execution_count": 74
  },
  {
   "metadata": {},
   "cell_type": "markdown",
   "source": "Just imported libraries",
   "id": "98c6d97b7176088b"
  },
  {
   "metadata": {
    "ExecuteTime": {
     "end_time": "2025-09-11T15:19:10.318608Z",
     "start_time": "2025-09-11T15:19:10.316791Z"
    }
   },
   "cell_type": "code",
   "source": [
    "stud_name = np.array([], dtype=object)\n",
    "stud_age = np.array([], dtype=int)\n",
    "stud_score = np.array([], dtype=int)\n",
    "stud_passed = np.array([], dtype=bool)"
   ],
   "id": "e99f8a2a2f222962",
   "outputs": [],
   "execution_count": 75
  },
  {
   "metadata": {
    "ExecuteTime": {
     "end_time": "2025-09-11T15:19:11.993491Z",
     "start_time": "2025-09-11T15:19:11.988223Z"
    }
   },
   "cell_type": "code",
   "source": [
    "data = pd.DataFrame({'Name': stud_name, 'Age': stud_age, 'Score': stud_score, 'Passed': stud_passed},\n",
    "                    index=range(len(stud_name)),dtype = object)"
   ],
   "id": "d55aa56bc7b5b58a",
   "outputs": [],
   "execution_count": 76
  },
  {
   "metadata": {
    "ExecuteTime": {
     "end_time": "2025-09-11T15:20:49.409666Z",
     "start_time": "2025-09-11T15:20:49.405999Z"
    }
   },
   "cell_type": "code",
   "source": [
    "def add_student():\n",
    "    global stud_name, stud_age, stud_score, stud_passed\n",
    "    stud_name = np.append(stud_name, input('Enter name: '))\n",
    "    stud_age = np.append(stud_age, input('Enter age: '))\n",
    "    x = int(input('Enter score: '))\n",
    "    stud_score = np.append(stud_score, x)\n",
    "    if x >= 60:\n",
    "        stud_passed = np.append(stud_passed, True)\n",
    "    else:\n",
    "        stud_passed = np.append(stud_passed, False)\n",
    "    with sq.connect('students.db') as con:\n",
    "        df = pd.DataFrame({'name': stud_name, 'age': stud_age, 'score': stud_score, 'passed': stud_passed}, dtype=object)\n",
    "        df.to_sql('students', con, if_exists='replace', index=False)"
   ],
   "id": "799d78c6625fd0ee",
   "outputs": [],
   "execution_count": 82
  },
  {
   "metadata": {},
   "cell_type": "markdown",
   "source": "Function to add a student to the database",
   "id": "2f5415919ba41ae5"
  },
  {
   "metadata": {
    "ExecuteTime": {
     "end_time": "2025-09-11T15:19:19.330927Z",
     "start_time": "2025-09-11T15:19:19.328170Z"
    }
   },
   "cell_type": "code",
   "source": [
    "def show_students():\n",
    "    with sq.connect('students.db') as con:\n",
    "        df = pd.read_sql('SELECT * FROM students', con)\n",
    "        df['passed'] = df['passed'].astype(bool)\n",
    "        display(df)"
   ],
   "id": "80a57d3a6c726960",
   "outputs": [],
   "execution_count": 78
  },
  {
   "metadata": {},
   "cell_type": "markdown",
   "source": "Function to show all students",
   "id": "44025eaf73c85da1"
  },
  {
   "metadata": {
    "ExecuteTime": {
     "end_time": "2025-09-11T15:28:47.089047Z",
     "start_time": "2025-09-11T15:28:47.085276Z"
    }
   },
   "cell_type": "code",
   "source": [
    "def clear_database():\n",
    "    global stud_name, stud_age, stud_score, stud_passed\n",
    "    stud_name = np.array([], dtype=object)\n",
    "    stud_age = np.array([], dtype=int)\n",
    "    stud_score = np.array([], dtype=int)\n",
    "    stud_passed = np.array([], dtype=bool)\n",
    "    with sq.connect('students.db') as con:\n",
    "        con.execute('DELETE FROM students')\n",
    "        con.commit()\n",
    "    print(\"All data has been cleared!\")"
   ],
   "id": "d5ce5d3fa9ad70b0",
   "outputs": [],
   "execution_count": 88
  },
  {
   "metadata": {},
   "cell_type": "markdown",
   "source": "Function to clear the database",
   "id": "18c901b1b6d06aee"
  },
  {
   "metadata": {
    "ExecuteTime": {
     "end_time": "2025-09-11T15:22:37.006609Z",
     "start_time": "2025-09-11T15:22:37.004545Z"
    }
   },
   "cell_type": "code",
   "source": [
    "def score_mean():\n",
    "    with sq.connect('students.db') as con:\n",
    "        df = pd.read_sql('SELECT * FROM students', con)\n",
    "        mean_score = df['score'].mean()\n",
    "        print(f\"Mean score: {mean_score:.2f}\")"
   ],
   "id": "b68e4e38a1e00f36",
   "outputs": [],
   "execution_count": 86
  },
  {
   "metadata": {
    "ExecuteTime": {
     "end_time": "2025-09-11T15:29:38.611648Z",
     "start_time": "2025-09-11T15:28:58.399216Z"
    }
   },
   "cell_type": "code",
   "source": [
    "try:\n",
    "    while True:\n",
    "        choice = input(\"\"\"Enter your choice: (1/2/3/4/5)\n",
    "\n",
    "                            1. Add student\n",
    "                            2. Show students\n",
    "                            3. Clear database\n",
    "                            4. Calculate mean score\n",
    "                            5. Exit\n",
    "                            \"\"\")\n",
    "        match choice:\n",
    "            case '1':\n",
    "                add_student()\n",
    "            case '2':\n",
    "                show_students()\n",
    "                break\n",
    "            case '3':\n",
    "                clear_database()\n",
    "                break\n",
    "            case '4':\n",
    "                score_mean()\n",
    "                break\n",
    "            case '5':\n",
    "                break\n",
    "            case _:\n",
    "                print(\"Invalid choice. Please try again.\")\n",
    "\n",
    "except ValueError:\n",
    "    print(\"Invalid choice. Please try again.\")\n",
    "except KeyboardInterrupt:\n",
    "    print(\"Program interrupted by user.\")\n",
    "except Exception as e:\n",
    "    print(f\"An error occurred: {e}\")"
   ],
   "id": "5fe759e82f9057d9",
   "outputs": [
    {
     "name": "stdout",
     "output_type": "stream",
     "text": [
      "Mean score: 79.67\n"
     ]
    }
   ],
   "execution_count": 89
  }
 ],
 "metadata": {
  "kernelspec": {
   "display_name": "Python 3",
   "language": "python",
   "name": "python3"
  },
  "language_info": {
   "codemirror_mode": {
    "name": "ipython",
    "version": 2
   },
   "file_extension": ".py",
   "mimetype": "text/x-python",
   "name": "python",
   "nbconvert_exporter": "python",
   "pygments_lexer": "ipython2",
   "version": "2.7.6"
  }
 },
 "nbformat": 4,
 "nbformat_minor": 5
}
